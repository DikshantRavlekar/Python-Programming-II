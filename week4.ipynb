{
  "nbformat": 4,
  "nbformat_minor": 0,
  "metadata": {
    "colab": {
      "provenance": [],
      "collapsed_sections": []
    },
    "kernelspec": {
      "name": "python3",
      "display_name": "Python 3"
    },
    "language_info": {
      "name": "python"
    }
  },
  "cells": [
    {
      "cell_type": "code",
      "execution_count": 3,
      "metadata": {
        "colab": {
          "base_uri": "https://localhost:8080/"
        },
        "id": "Q5AUjUrPhuvd",
        "outputId": "29b112cc-1b24-4e5e-daa6-9714bddd0015"
      },
      "outputs": [
        {
          "output_type": "stream",
          "name": "stdout",
          "text": [
            "400 28\n"
          ]
        }
      ],
      "source": [
        "#1Write a Python program to create a Vehicle class with max_speed and mileage instance attrib\n",
        "class Vehicle:\n",
        "  def __init__(a, max_speed, mileage):\n",
        "    a.max_speed = max_speed\n",
        "    a.mileage = mileage\n",
        "\n",
        "bike = Vehicle(400, 28)\n",
        "print(bike.max_speed, bike.mileage)"
      ]
    },
    {
      "cell_type": "code",
      "source": [
        "#2Create a Vehicle class without any variables and methods.\n",
        "class Vehicle:\n",
        "  pass"
      ],
      "metadata": {
        "id": "_2nDtPpGjiPG"
      },
      "execution_count": 5,
      "outputs": []
    },
    {
      "cell_type": "code",
      "source": [
        "#3Create a child class Bus that will inherit all of the variables and methods of the Vehicle\n",
        "class Vehicle:\n",
        "  def __init__(self, name, max_speed, mileage):\n",
        "    self.name = name\n",
        "    self.max_speed = max_speed\n",
        "    self.mileage = mileage\n",
        "\n",
        "class Bus(Vehicle):\n",
        "  pass\n",
        "bus = Bus(\"Bmw \", 250, 15)\n",
        "print(\"Vehicle Name:\", bus.name, \"Speed:\", bus.max_speed, \"Mileage:\",bus.mileage)"
      ],
      "metadata": {
        "colab": {
          "base_uri": "https://localhost:8080/"
        },
        "id": "2UiPjErHj6ke",
        "outputId": "4d23f50f-6047-4c5f-e09a-3e756c9c6e13"
      },
      "execution_count": 6,
      "outputs": [
        {
          "output_type": "stream",
          "name": "stdout",
          "text": [
            "Vehicle Name: Bmw  Speed: 250 Mileage: 15\n"
          ]
        }
      ]
    },
    {
      "cell_type": "code",
      "source": [
        "#4 Create a Bus class that inherits from the Vehicle class. Give the capacity argument of Bus\n",
        "class Vehicle:\n",
        "  def __init__(self, name, max_speed, mileage):\n",
        "    self.name = name\n",
        "    self.max_speed = max_speed\n",
        "    self.mileage = mileage\n",
        "  def seating_capacity(self, capacity):\n",
        "    return f\"The seating capacity of a {self.name} is {capacity} passengers\"\n",
        "class Bus(Vehicle):\n",
        "  def seating_capacity(self, capacity=50):\n",
        "    return super().seating_capacity(capacity=50)\n",
        "bus = Bus(\"bmw\", 400, 12)\n",
        "print(bus.seating_capacity())"
      ],
      "metadata": {
        "colab": {
          "base_uri": "https://localhost:8080/"
        },
        "id": "9rFLEk9jsY03",
        "outputId": "7728ae7b-cb8b-44dd-b8f0-0eb6820a9978"
      },
      "execution_count": 7,
      "outputs": [
        {
          "output_type": "stream",
          "name": "stdout",
          "text": [
            "The seating capacity of a bmw is 50 passengers\n"
          ]
        }
      ]
    },
    {
      "cell_type": "code",
      "source": [
        "#5 Create a Bus child class that inherits from the Vehicle class. The default fare charge of\n",
        "class Vehicle:\n",
        "  def __init__(self, name, mileage, capacity):\n",
        "    self.name = name\n",
        "    self.mileage = mileage\n",
        "    self.capacity = capacity\n",
        "  def fare(self):\n",
        "    return self.capacity * 100\n",
        "class Bus(Vehicle):\n",
        "  def fare(self):\n",
        "    amount = super().fare()\n",
        "    amount += amount * 10 / 100\n",
        "    return amount\n",
        "bus = Bus(\"bmw\", 20, 60)\n",
        "print(\"Total Bus fare is:\", bus.fare())\n",
        "\n"
      ],
      "metadata": {
        "colab": {
          "base_uri": "https://localhost:8080/"
        },
        "id": "plBAE39-tR8C",
        "outputId": "85d35ae6-47b3-4b12-ef7c-5ca01486fc59"
      },
      "execution_count": 8,
      "outputs": [
        {
          "output_type": "stream",
          "name": "stdout",
          "text": [
            "Total Bus fare is: 6600.0\n"
          ]
        }
      ]
    }
  ]
}