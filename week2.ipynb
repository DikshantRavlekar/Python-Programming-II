{
  "nbformat": 4,
  "nbformat_minor": 0,
  "metadata": {
    "colab": {
      "provenance": [],
      "collapsed_sections": [],
      "authorship_tag": "ABX9TyPAzzR4FZqDjeq458evEckt",
      "include_colab_link": true
    },
    "kernelspec": {
      "name": "python3",
      "display_name": "Python 3"
    },
    "language_info": {
      "name": "python"
    }
  },
  "cells": [
    {
      "cell_type": "markdown",
      "metadata": {
        "id": "view-in-github",
        "colab_type": "text"
      },
      "source": [
        "<a href=\"https://colab.research.google.com/github/DikshantRavlekar/Python-Programming-II/blob/main/week2.ipynb\" target=\"_parent\"><img src=\"https://colab.research.google.com/assets/colab-badge.svg\" alt=\"Open In Colab\"/></a>"
      ]
    },
    {
      "cell_type": "markdown",
      "source": [
        "Week 2\n",
        "\n",
        "Section A"
      ],
      "metadata": {
        "id": "FyQ1jqLwBOyp"
      }
    },
    {
      "cell_type": "markdown",
      "source": [
        "Q1"
      ],
      "metadata": {
        "id": "t9tNdmJbBc4h"
      }
    },
    {
      "cell_type": "code",
      "execution_count": 3,
      "metadata": {
        "colab": {
          "base_uri": "https://localhost:8080/"
        },
        "id": "TY7v7en0BFUN",
        "outputId": "14273d5a-97d7-4106-b3e7-4dc310a409b7"
      },
      "outputs": [
        {
          "output_type": "stream",
          "name": "stdout",
          "text": [
            "There are total 2 same values\n",
            "There are total 2 same values\n",
            "There are total 3 same values\n",
            "There are total 0 same values\n"
          ]
        }
      ],
      "source": [
        "def num(a, b, c):\n",
        "  l=[]\n",
        "  if a==b==c:\n",
        "    l.append(a)\n",
        "    l.append(b)\n",
        "    l.append(c)\n",
        "  elif a==b:\n",
        "    l.append(a)\n",
        "    l.append(b)\n",
        "  elif b==c:\n",
        "    l.append(b)\n",
        "    l.append(c)\n",
        "  elif a==c:\n",
        "    l.append(a)\n",
        "    l.append(c)\n",
        "    \n",
        "  n = len(l)\n",
        "  print(\"There are total\",n,\"same values\")\n",
        "\n",
        "num(21, 2, 2)\n",
        "num(3,4,3)\n",
        "num(1,1,1)\n",
        "num(1,2,3)"
      ]
    },
    {
      "cell_type": "markdown",
      "source": [
        "Q2"
      ],
      "metadata": {
        "id": "3u9JSdEoBdtA"
      }
    },
    {
      "cell_type": "code",
      "source": [
        "d = {\"b\":1,\"a\":2}\n",
        "temp = []\n",
        "for key, value in dict.items(d):\n",
        "  k = key\n",
        "  v = value\n",
        "  t = ((k,v))\n",
        "  temp.append(t)\n",
        "  temp.sort()\n",
        "print(temp)"
      ],
      "metadata": {
        "colab": {
          "base_uri": "https://localhost:8080/"
        },
        "id": "MBDGQllWBeb5",
        "outputId": "09b304c7-59b1-47d7-90ac-9a6e5beca6fe"
      },
      "execution_count": 5,
      "outputs": [
        {
          "output_type": "stream",
          "name": "stdout",
          "text": [
            "[('a', 2), ('b', 1)]\n"
          ]
        }
      ]
    },
    {
      "cell_type": "markdown",
      "source": [
        "Q3"
      ],
      "metadata": {
        "id": "3XQUrtB1BhRB"
      }
    },
    {
      "cell_type": "code",
      "source": [
        "l = ['a','b','c','d','e','f','g']\n",
        "dic = {}\n",
        "\n",
        "for i in l:\n",
        "  j = i.upper()\n",
        "  dic.update({i:j})\n",
        "print(dic)"
      ],
      "metadata": {
        "colab": {
          "base_uri": "https://localhost:8080/"
        },
        "id": "2ALujtyoBiAS",
        "outputId": "1544380a-60e3-4929-8007-e8c1876e38b3"
      },
      "execution_count": 1,
      "outputs": [
        {
          "output_type": "stream",
          "name": "stdout",
          "text": [
            "{'a': 'A', 'b': 'B', 'c': 'C', 'd': 'D', 'e': 'E', 'f': 'F', 'g': 'G'}\n"
          ]
        }
      ]
    },
    {
      "cell_type": "markdown",
      "source": [
        "Q4"
      ],
      "metadata": {
        "id": "UjqMhfPZBoyx"
      }
    },
    {
      "cell_type": "code",
      "source": [
        "def ReplaceVowels(st1,v):\n",
        "  vowels = 'aeiou'\n",
        "  for i in vowels:\n",
        "    st1 = st1.replace(i,v)\n",
        "  return st1\n",
        "\n",
        "stri = 'python is a easy to learn programming language'\n",
        "v = 'e'\n",
        "\n",
        "print('given string is ',stri)\n",
        "print('specific vowel is',v)\n",
        "\n",
        "print(\"After replacing vowels with the specified character:\",ReplaceVowels(stri,v))"
      ],
      "metadata": {
        "colab": {
          "base_uri": "https://localhost:8080/"
        },
        "id": "25sg87bsBqWp",
        "outputId": "ebd2a6f8-eba5-4324-f704-ae15d54f306b"
      },
      "execution_count": 6,
      "outputs": [
        {
          "output_type": "stream",
          "name": "stdout",
          "text": [
            "given string is  python is a easy to learn programming language\n",
            "specific vowel is e\n",
            "After replacing vowels with the specified character: pythen es e eesy te leern pregremmeng lengeege\n"
          ]
        }
      ]
    },
    {
      "cell_type": "markdown",
      "source": [
        "Q5"
      ],
      "metadata": {
        "id": "tzUbaeMnBuZZ"
      }
    },
    {
      "cell_type": "code",
      "source": [
        "def ascii(st):\n",
        "  res=[]\n",
        "  for index, c in enumerate(st):\n",
        "    if index%2==0:\n",
        "      res.append(c.upper())\n",
        "    else:\n",
        "      res.append(c.lower())\n",
        "  return''.join(res)\n",
        "print(ascii(\"Dikshant Ravlekar\"))"
      ],
      "metadata": {
        "colab": {
          "base_uri": "https://localhost:8080/"
        },
        "id": "L2zHfpLUBvVo",
        "outputId": "7c13c9a6-5bef-474a-e863-af0412322aee"
      },
      "execution_count": 7,
      "outputs": [
        {
          "output_type": "stream",
          "name": "stdout",
          "text": [
            "DiKsHaNt rAvLeKaR\n"
          ]
        }
      ]
    }
  ]
}